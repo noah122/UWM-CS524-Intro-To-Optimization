{
 "cells": [
  {
   "cell_type": "markdown",
   "metadata": {},
   "source": [
    "## Homework 2: More linear programs"
   ]
  },
  {
   "cell_type": "markdown",
   "metadata": {},
   "source": [
    "Name: Zihao Qiu  \n",
    "Campus ID: 9079810942  \n",
    "Email: zqiu34@wisc.edu  "
   ]
  },
  {
   "cell_type": "markdown",
   "metadata": {},
   "source": [
    "## Problem 1 (Polyhedron modeling)"
   ]
  },
  {
   "cell_type": "markdown",
   "metadata": {},
   "source": [
    "### (a)"
   ]
  },
  {
   "cell_type": "markdown",
   "metadata": {},
   "source": [
    "Assume x=($x_1$, $x_2$, $x_3$). It's obvious that points in the regular cube satisify the inequalities as follows:\n",
    "$$\n",
    "\\left\\{\n",
    " \\begin{align}\n",
    "  & -1 \\leq x_1 \\leq 1 \\\\\n",
    "  & -1 \\leq x_2 \\leq 1 \\\\\n",
    "  & -1 \\leq x_3 \\leq 1\n",
    "\\end{align}\n",
    "\\right.\n",
    "$$\n",
    "So we can get A and b:\n",
    "$$\n",
    "A = \\begin{equation}       \n",
    "\\left(                 \n",
    "  \\begin{array}{ccc}    \n",
    "    1 & 0 & 0\\\\   \n",
    "   -1 & 0 & 0\\\\   \n",
    "    0 & 1 & 0\\\\   \n",
    "    0 & -1 & 0\\\\   \n",
    "    0 & 0 & 1\\\\   \n",
    "    0 & 0 & -1\\\\   \n",
    "  \\end{array}\n",
    "\\right)                 \n",
    "\\end{equation}\n",
    "$$\n",
    "$$\n",
    "b = \\begin{equation}       \n",
    "\\left(                 \n",
    "  \\begin{array}{ccc}    \n",
    "    1\\\\   \n",
    "    1\\\\   \n",
    "    1\\\\   \n",
    "    1\\\\   \n",
    "    1\\\\   \n",
    "    1\\\\   \n",
    "  \\end{array}\n",
    "\\right)                 \n",
    "\\end{equation}\n",
    "$$"
   ]
  },
  {
   "cell_type": "markdown",
   "metadata": {},
   "source": [
    "### (b)"
   ]
  },
  {
   "cell_type": "markdown",
   "metadata": {},
   "source": [
    "It's obvious that points in the regular octahedron satisify the inequalities as follows:\n",
    "$$\n",
    "\\left\\{\n",
    " \\begin{align}\n",
    "  & x_1 + x_2 + x_3 \\leq 1 \\\\\n",
    "  & x_1 + x_2 - x_3 \\leq 1 \\\\\n",
    "  & x_1 - x_2 + x_3 \\leq 1 \\\\\n",
    "  & -x_1 + x_2 + x_3 \\leq 1 \\\\\n",
    "  & x_1 - x_2 - x_3 \\leq 1 \\\\\n",
    "  & -x_1 + x_2 - x_3 \\leq 1 \\\\\n",
    "  & -x_1 - x_2 + x_3 \\leq 1 \\\\\n",
    "  & -x_1 - x_2 - x_3 \\leq 1 \\\\\n",
    "\\end{align}\n",
    "\\right.\n",
    "$$\n",
    "So we can get A and b:\n",
    "$$\n",
    "A = \\begin{equation}       \n",
    "\\left(                 \n",
    "  \\begin{array}{ccc}    \n",
    "    1 & 1 & 1\\\\   \n",
    "    1 & 1 & -1\\\\   \n",
    "    1 & -1 & 1\\\\   \n",
    "    -1 & 1 & 1\\\\   \n",
    "    1 & -1 & -1\\\\   \n",
    "    -1 & 1 & -1\\\\ \n",
    "    -1 & -1 & 1\\\\   \n",
    "    -1 & -1 & -1\\\\ \n",
    "  \\end{array}\n",
    "\\right)                 \n",
    "\\end{equation}\n",
    "$$\n",
    "$$\n",
    "b = \\begin{equation}       \n",
    "\\left(                 \n",
    "  \\begin{array}{ccc}    \n",
    "    1\\\\   \n",
    "    1\\\\   \n",
    "    1\\\\   \n",
    "    1\\\\   \n",
    "    1\\\\   \n",
    "    1\\\\ \n",
    "    1\\\\   \n",
    "    1\\\\ \n",
    "  \\end{array}\n",
    "\\right)                 \n",
    "\\end{equation}\n",
    "$$"
   ]
  },
  {
   "cell_type": "markdown",
   "metadata": {},
   "source": [
    "## Problem 2 (Standard form with equality constraints)"
   ]
  },
  {
   "cell_type": "markdown",
   "metadata": {},
   "source": [
    "### (a)"
   ]
  },
  {
   "cell_type": "markdown",
   "metadata": {},
   "source": [
    "First we can deal with $-1 \\leq z_2 \\leq 5$. Let $x_2 = z_2 + 1$, we have $0 \\leq x_2 \\leq 6$. $x_2 \\geq 0$ is OK. In order to cope with $x_2 \\leq 6$, we can add a slack variable $s_2$. Let $x_2 + s_2 = 6$ and we can have $s_2 \\geq 0$"
   ]
  },
  {
   "cell_type": "markdown",
   "metadata": {},
   "source": [
    "In the same way, we can convert $-1 \\leq z_3 \\leq 5$ into $x_3 \\geq 0$, $s_3 \\geq 0$ and $x_3 + s_3 = 6$. The same rule can also apply on $-2 \\leq z_4 \\leq 2$ and we can have $x_4 \\geq 0$, $s_4 \\geq 0$ and $x_4 + s_4 = 4$"
   ]
  },
  {
   "cell_type": "markdown",
   "metadata": {},
   "source": [
    "Because $z_1$ is not constrained. So we can use u-v to replace $z_1$, where $u \\geq 0$ and $v \\geq 0$."
   ]
  },
  {
   "cell_type": "markdown",
   "metadata": {},
   "source": [
    "To deal with $-z_1+6z_2 - z_3 + z_4 \\geq -3$, first we can turn it into $z_1-6z_2 + z_3 - z_4 \\leq 3$, then we can add a slack variable $s_5$ to convert the inequality into equality: $z_1-6z_2 + z_3 - z_4 + s_5 = 3$, where $s_5 \\geq 0$. After that, we can replace $z_1$ with u-v, replace $z_2$ with $x_2 -1$ and so on. Finally we can get $u - v -6x_2 + x_3 - x_4 + s_5 = -4$."
   ]
  },
  {
   "cell_type": "markdown",
   "metadata": {},
   "source": [
    "In the same way, we can convert $7z_2 +z_4 =5$ and $z_3 + z_4 \\leq 2$ into $7x_2 + x_4 = 14$ and $ x_3 + x_4 + s_6 = 5$."
   ]
  },
  {
   "cell_type": "markdown",
   "metadata": {},
   "source": [
    "The final LP problem with equality constraints can be described as follows:\n",
    "$$\n",
    "\\begin{align}\n",
    "\\mathop {- \\min }\\limits_{u,v,x_2,s_2,x_3,s_3,x_4,s_4,s_5,s_6} \\quad -3u+3v+x_2-1 \\\\\n",
    "subject\\ to: u - v -6x_2 + x_3 - x_4 + s_5 = -4 \\\\\n",
    "             7x_2 + x_4 = 14 \\\\\n",
    "             x_3 + x_4 + s_6 = 5\\\\\n",
    "             x_2 + s_2 = 6\\\\\n",
    "             x_3 + s_3 = 6\\\\\n",
    "             x_4 + s_4 = 4\\\\\n",
    "             u \\geq 0, v \\geq 0, x_2 \\geq 0, s_2 \\geq 0\\\\\n",
    "             x_3 \\geq 0, s_3 \\geq 0, x_4 \\geq 0, s_4 \\geq 0 \\\\\n",
    "             s_5 \\geq 0, s_6 \\geq 0\\\\\n",
    "\\end{align}\n",
    "$$"
   ]
  },
  {
   "cell_type": "markdown",
   "metadata": {},
   "source": [
    "So we can have A, b, c, x:"
   ]
  },
  {
   "cell_type": "markdown",
   "metadata": {},
   "source": [
    "$$\n",
    "x = \\begin{equation}       \n",
    "\\left(                 \n",
    "  \\begin{array}{ccc}    \n",
    "     u \\\\\n",
    "     v \\\\\n",
    "     x_2 \\\\\n",
    "     s_2 \\\\\n",
    "     x_3 \\\\\n",
    "     s_3 \\\\\n",
    "     x_4 \\\\\n",
    "     s_4 \\\\\n",
    "     s_5 \\\\\n",
    "     s_6 \\\\\n",
    "     1\n",
    "  \\end{array}\n",
    "\\right)                 \n",
    "\\end{equation}\n",
    "$$\n",
    "$$\n",
    "c = \\begin{equation}       \n",
    "\\left(                 \n",
    "  \\begin{array}{ccc}    \n",
    "     -3 \\\\\n",
    "     3 \\\\\n",
    "     1 \\\\\n",
    "     0 \\\\\n",
    "     0 \\\\\n",
    "     0 \\\\\n",
    "     0 \\\\\n",
    "     0 \\\\\n",
    "     0 \\\\\n",
    "     0 \\\\\n",
    "     -1\n",
    "  \\end{array}\n",
    "\\right)                 \n",
    "\\end{equation}\n",
    "$$\n",
    "$$\n",
    "A = \\begin{equation} \n",
    "\\left(\n",
    "\\begin{array}{*{20}c}\n",
    "1 &-1 &-6 & 0 & 1 & 0 & -1 & 0 & 1 & 0 & 0 \\\\\n",
    "0 & 0 & 7 & 0 & 0 & 0 &  1 & 0 & 0 & 0 & 0 \\\\\n",
    "0 & 0 & 0 & 0 & 1 & 0 & 1  & 0 & 0 & 0 & 0 \\\\\n",
    "0 & 0 & 1 & 1 & 0 & 0 & 0  & 0 & 0 & 0 & 0 \\\\\n",
    "0 & 0 & 0 & 0 & 1 & 1 & 0 & 0 & 0 & 0 & 0\\\\\n",
    "0 & 0 & 0 & 0 & 0 & 0 & 1 & 1 & 0 & 0 & 0\n",
    "\\end{array}\n",
    "\\right)\n",
    "\\end{equation}\n",
    "$$\n",
    "$$\n",
    "b = \\begin{equation}       \n",
    "\\left(                 \n",
    "  \\begin{array}{ccc}    \n",
    "     -4 \\\\\n",
    "     14 \\\\\n",
    "     5  \\\\\n",
    "     6  \\\\\n",
    "     6  \\\\\n",
    "     4\n",
    "  \\end{array}\n",
    "\\right)                 \n",
    "\\end{equation}\n",
    "$$"
   ]
  },
  {
   "cell_type": "markdown",
   "metadata": {},
   "source": [
    "### (b)"
   ]
  },
  {
   "cell_type": "markdown",
   "metadata": {},
   "source": [
    "First I use the version that the program gives us:"
   ]
  },
  {
   "cell_type": "code",
   "execution_count": 1,
   "metadata": {},
   "outputs": [
    {
     "name": "stdout",
     "output_type": "stream",
     "text": [
      "  2.941261 seconds (1.42 M allocations: 73.950 MiB, 0.81% gc time)\n",
      "Optimal\n",
      "z1: 8.571428571428571\n",
      "z2: 0.42857142857142855\n",
      "z3: -1.0\n",
      "z4: 2.0\n",
      "objective value: 25.28571428571429\n"
     ]
    }
   ],
   "source": [
    "using JuMP, Clp\n",
    "\n",
    "m = Model(solver = ClpSolver())\n",
    "\n",
    "@variable(m, z1)\n",
    "@variable(m, -1 <= z2 <= 5)\n",
    "@variable(m, -1 <= z3 <= 5)\n",
    "@variable(m, -2 <= z4 <= 2)\n",
    "\n",
    "@constraint(m, -z1 + 6z2 - z3 + z4 >= -3)\n",
    "@constraint(m, 7z2 + z4 == 5)\n",
    "@constraint(m, z3 + z4 <= 2)\n",
    "\n",
    "@objective(m, Max, 3z1 - z2)\n",
    "\n",
    "@time status = solve(m)\n",
    "\n",
    "println(status)\n",
    "println(\"z1: \", getvalue(z1))\n",
    "println(\"z2: \", getvalue(z2))\n",
    "println(\"z3: \", getvalue(z3))\n",
    "println(\"z4: \", getvalue(z4))\n",
    "println(\"objective value: \", getobjectivevalue(m))"
   ]
  },
  {
   "cell_type": "markdown",
   "metadata": {},
   "source": [
    "Then I use the standard form with equality constraints:"
   ]
  },
  {
   "cell_type": "code",
   "execution_count": 10,
   "metadata": {},
   "outputs": [
    {
     "name": "stdout",
     "output_type": "stream",
     "text": [
      "  0.000438 seconds (70 allocations: 6.563 KiB)\n",
      "Optimal\n",
      "u: 8.571428571428571\n",
      "v: 0.0\n",
      "x2: 1.4285714285714286\n",
      "s2: 4.571428571428571\n",
      "x3: 0.0\n",
      "s3: 6.0\n",
      "x4: 4.0\n",
      "s4: 0.0\n",
      "s5: 0.0\n",
      "s6: 1.0\n",
      "objective value: 25.28571428571429\n"
     ]
    }
   ],
   "source": [
    "using JuMP, Clp\n",
    "\n",
    "m = Model(solver = ClpSolver())\n",
    "\n",
    "@variable(m, u >= 0)\n",
    "@variable(m, v >= 0)\n",
    "@variable(m, x2 >= 0)\n",
    "@variable(m, s2 >= 0)\n",
    "@variable(m, x3 >= 0)\n",
    "@variable(m, s3 >= 0)\n",
    "@variable(m, x4 >= 0)\n",
    "@variable(m, s4 >= 0)\n",
    "@variable(m, s5 >= 0)\n",
    "@variable(m, s6 >= 0)\n",
    "\n",
    "@constraint(m, x2 + s2 == 6)\n",
    "@constraint(m, x3 + s3 == 6)\n",
    "@constraint(m, x4 + s4 == 4)\n",
    "@constraint(m, u - v -6x2 + x3 - x4 + s5 == -4)\n",
    "@constraint(m, 7x2 + x4 == 14)\n",
    "@constraint(m, x3 + x4 + s6 == 5)\n",
    "\n",
    "@objective(m, Min, -3u + 3v + x2 -1)\n",
    "\n",
    "@time status = solve(m)\n",
    "\n",
    "println(status)\n",
    "println(\"u: \", getvalue(u))\n",
    "println(\"v: \", getvalue(v))\n",
    "println(\"x2: \", getvalue(x2))\n",
    "println(\"s2: \", getvalue(s2))\n",
    "println(\"x3: \", getvalue(x3))\n",
    "println(\"s3: \", getvalue(s3))\n",
    "println(\"x4: \", getvalue(x4))\n",
    "println(\"s4: \", getvalue(s4))\n",
    "println(\"s5: \", getvalue(s5))\n",
    "println(\"s6: \", getvalue(s6))\n",
    "println(\"objective value: \", -getobjectivevalue(m))"
   ]
  },
  {
   "cell_type": "markdown",
   "metadata": {},
   "source": [
    "We can see that both versions have the same objective value. Note that $z_1$=u-v, $z_2$=$x_2$-1, $z_3$=$x_3$-1, $z_4$=$x_4$-2. So in fact, two versions of LP get the optimal value on the same input values."
   ]
  },
  {
   "cell_type": "markdown",
   "metadata": {},
   "source": [
    "## Problem 3 (Alloy blending)"
   ]
  },
  {
   "cell_type": "markdown",
   "metadata": {},
   "source": [
    "Note that the grade of Carbon is 2%-3%, So the weight of Carbon in 500 tons of steel is 10tons-15tons. In the same way, we can get the weight of Copper is 2tons-3tons and the weight of Manganese is 6tons-8.25tons."
   ]
  },
  {
   "cell_type": "markdown",
   "metadata": {},
   "source": [
    "Assume that we need $x_1$tons of Iron alloy 1, $x_2$tons of Iron alloy 2, $x_3$tons of Iron alloy 3, $x_4$tons of Copper 1, $x_5$tons of Copper 2, $x_6$tons of Alumimum 1 and $x_7$tons of Alumimum 2, and then the LP problem can be described as follows:"
   ]
  },
  {
   "cell_type": "markdown",
   "metadata": {},
   "source": [
    "$$\n",
    "\\begin{align}\n",
    "\\mathop {\\min }\\limits_{x_1,x_2,x_3,x_4,x_5,x_6,x_7} \\quad 200x_1 + 250x_2 + 150x_3 + 220x_4 + 240x_5 + 200x_6 + 165x_7 \\\\\n",
    "subject\\ to:\\quad\\quad\\quad\\quad\\quad\\quad\\quad\\quad\\quad\\quad\\quad\\quad   10 \\leq 0.025x_1 + 0.03x_2 \\leq 15 \\\\\n",
    "              2 \\leq 0.003x_3 + 0.9x_4 + 0.96x_5 + 0.004x_6 + 0.006x_7 \\leq 3 \\\\\n",
    "              6 \\leq 0.013x_1 + 0.008x_2 + 0.04x_5 + 0.012x_6 \\leq 8.25 \\\\\n",
    "              x_1 + x_2 + x_3 + x_4 + x_5 + x_6 + x_7 = 500 \\\\\n",
    "              0 \\leq x_1 \\leq 400 \\\\\n",
    "              0 \\leq x_2 \\leq 300 \\\\\n",
    "              0 \\leq x_3 \\leq 600 \\\\\n",
    "              0 \\leq x_4 \\leq 500 \\\\\n",
    "              0 \\leq x_5 \\leq 200 \\\\\n",
    "              0 \\leq x_6 \\leq 300 \\\\\n",
    "              0 \\leq x_7 \\leq 250 \\\\\n",
    "\\end{align}\n",
    "$$"
   ]
  },
  {
   "cell_type": "code",
   "execution_count": 1,
   "metadata": {},
   "outputs": [
    {
     "name": "stdout",
     "output_type": "stream",
     "text": [
      "  2.567154 seconds (1.42 M allocations: 73.843 MiB, 0.93% gc time)\n",
      "Optimal\n",
      "x1: 400.0\n",
      "x2: 0.0\n",
      "x3: 39.77630199231039\n",
      "x4: 0.0\n",
      "x5: 2.761272282418735\n",
      "x6: 57.462425725270876\n",
      "x7: 0.0\n",
      "objective value: 98121.63579168124\n"
     ]
    }
   ],
   "source": [
    "using JuMP, Clp\n",
    "\n",
    "m = Model(solver = ClpSolver())\n",
    "\n",
    "@variable(m, 0 <= x1 <= 400)\n",
    "@variable(m, 0 <= x2 <= 300)\n",
    "@variable(m, 0 <= x3 <= 600)\n",
    "@variable(m, 0 <= x4 <= 500)\n",
    "@variable(m, 0 <= x5 <= 200)\n",
    "@variable(m, 0 <= x6 <= 300)\n",
    "@variable(m, 0 <= x7 <= 250)\n",
    "\n",
    "@constraint(m, x1 + x2 + x3 + x4 + x5 + x6 + x7 == 500)\n",
    "@constraint(m, 10 <= 0.025x1 + 0.03x2 <= 15)\n",
    "@constraint(m, 2 <= 0.003x3 + 0.9x4 + 0.96x5 + 0.004x6 + 0.006x7 <= 3)\n",
    "@constraint(m, 6 <= 0.013x1 + 0.008x2 + 0.04x5 + 0.012x6 <= 8.25)\n",
    "\n",
    "@objective(m, Min, 200x1 + 250x2 + 150x3 + 220x4 + 240x5 + 200x6 + 165x7)\n",
    "\n",
    "@time status = solve(m)\n",
    "\n",
    "println(status)\n",
    "println(\"x1: \", getvalue(x1))\n",
    "println(\"x2: \", getvalue(x2))\n",
    "println(\"x3: \", getvalue(x3))\n",
    "println(\"x4: \", getvalue(x4))\n",
    "println(\"x5: \", getvalue(x5))\n",
    "println(\"x6: \", getvalue(x6))\n",
    "println(\"x7: \", getvalue(x7))\n",
    "println(\"objective value: \", getobjectivevalue(m))"
   ]
  },
  {
   "cell_type": "markdown",
   "metadata": {},
   "source": [
    "So we need 400 tons of Iron alloy 1, 39.78 tons of Iron alloy3, 2.76 tons of Copper2 and 57.46 tons of Aluminum 1. The minimum production cost is \\$98121.64."
   ]
  },
  {
   "cell_type": "markdown",
   "metadata": {},
   "source": [
    "## Problem 4 (Stigler's diet)"
   ]
  },
  {
   "cell_type": "markdown",
   "metadata": {},
   "source": [
    "### (a)"
   ]
  },
  {
   "cell_type": "markdown",
   "metadata": {},
   "source": [
    "First I formulate Stigler's diet problem as an LP. "
   ]
  },
  {
   "cell_type": "markdown",
   "metadata": {},
   "source": [
    "Let x = ($x_1$,$x_2$,$\\cdots$,$x_{77}$) to be a vector to describe how much dollar I should spend on the corresponding food. For example, I should spend $x_1$ dollars on 'Wheat Flour(Enriched)', spend $x_2$ dollars on 'Macaroni' and so on. The the problem can be formulated as follows:"
   ]
  },
  {
   "cell_type": "markdown",
   "metadata": {},
   "source": [
    "data[f,i] is the amount of nutrient i contained in food f. lower[i] is the minimum daily requirement of nutrient i. "
   ]
  },
  {
   "cell_type": "markdown",
   "metadata": {},
   "source": [
    "$$\n",
    "\\begin{align}\n",
    "\\mathop {\\min }\\limits_{x} \\sum_{i=1}^{77} x_i \\\\\n",
    "subject\\ to: \\sum_{i=1}^{77} x_i * data[i, 1] \\geq lower[1] \\\\\n",
    "             \\sum_{i=1}^{77} x_i * data[i, 2] \\geq lower[2] \\\\\n",
    "             \\sum_{i=1}^{77} x_i * data[i, 3] \\geq lower[3] \\\\\n",
    "             \\sum_{i=1}^{77} x_i * data[i, 4] \\geq lower[4] \\\\\n",
    "             \\sum_{i=1}^{77} x_i * data[i, 5] \\geq lower[4] \\\\\n",
    "             \\sum_{i=1}^{77} x_i * data[i, 6] \\geq lower[4] \\\\\n",
    "             \\sum_{i=1}^{77} x_i * data[i, 7] \\geq lower[4] \\\\\n",
    "             \\sum_{i=1}^{77} x_i * data[i, 8] \\geq lower[4] \\\\\n",
    "             \\sum_{i=1}^{77} x_i * data[i, 9] \\geq lower[4] \\\\\n",
    "\\end{align}\n",
    "$$"
   ]
  },
  {
   "cell_type": "markdown",
   "metadata": {},
   "source": [
    "The I solve this problem with Julia. The codes are as follows:"
   ]
  },
  {
   "cell_type": "code",
   "execution_count": 4,
   "metadata": {},
   "outputs": [],
   "source": [
    "# STARTER CODE FOR STIGLER'S DIET PROBLEM\n",
    "using NamedArrays\n",
    "\n",
    "# import Stigler's data set\n",
    "raw = readcsv(\"C:\\\\Users\\\\Administrator\\\\Desktop\\\\cs524\\\\stigler.csv\")\n",
    "(m,n) = size(raw)\n",
    "\n",
    "n_nutrients = 2:n      # columns containing nutrients\n",
    "n_foods = 3:m          # rows containing food names\n",
    "\n",
    "nutrients = raw[1,n_nutrients][:]   # the list of nutrients (convert to 1-D array)\n",
    "foods = raw[n_foods,1][:]           # the list of foods (convert to 1-D array)\n",
    " \n",
    "# lower[i] is the minimum daily requirement of nutrient i.\n",
    "lower = Dict( zip(nutrients,raw[2,n_nutrients]) )\n",
    "\n",
    "# data[f,i] is the amount of nutrient i contained in food f.\n",
    "data = NamedArray( raw[n_foods,n_nutrients], (foods,nutrients), (\"foods\",\"nutrients\") );"
   ]
  },
  {
   "cell_type": "code",
   "execution_count": 5,
   "metadata": {},
   "outputs": [
    {
     "name": "stdout",
     "output_type": "stream",
     "text": [
      "  0.000825 seconds (70 allocations: 48.813 KiB)\n",
      "Optimal\n",
      "Wheat Flour (Enriched) 0.02951906167648827\n",
      "Macaroni 0.0\n",
      "Wheat Cereal (Enriched) 0.0\n",
      "Corn Flakes 0.0\n",
      "Corn Meal 0.0\n",
      "Hominy Grits 0.0\n",
      "Rice 0.0\n",
      "Rolled Oats 0.0\n",
      "White Bread (Enriched) 0.0\n",
      "Whole Wheat Bread 0.0\n",
      "Rye Bread 0.0\n",
      "Pound Cake 0.0\n",
      "Soda Crackers 0.0\n",
      "Milk 0.0\n",
      "Evaporated Milk (can) 0.0\n",
      "Butter 0.0\n",
      "Oleomargarine 0.0\n",
      "Eggs 0.0\n",
      "Cheese (Cheddar) 0.0\n",
      "Cream 0.0\n",
      "Peanut Butter 0.0\n",
      "Mayonnaise 0.0\n",
      "Crisco 0.0\n",
      "Lard 0.0\n",
      "Sirloin Steak 0.0\n",
      "Round Steak 0.0\n",
      "Rib Roast 0.0\n",
      "Chuck Roast 0.0\n",
      "Plate 0.0\n",
      "Liver (Beef) 0.0018925572907052643\n",
      "Leg of Lamb 0.0\n",
      "Lamb Chops (Rib) 0.0\n",
      "Pork Chops 0.0\n",
      "Pork Loin Roast 0.0\n",
      "Bacon 0.0\n",
      "Ham, smoked 0.0\n",
      "Salt Pork 0.0\n",
      "Roasting Chicken 0.0\n",
      "Veal Cutlets 0.0\n",
      "Salmon, Pink (can) 0.0\n",
      "Apples 0.0\n",
      "Bananas 0.0\n",
      "Lemons 0.0\n",
      "Oranges 0.0\n",
      "Green Beans 0.0\n",
      "Cabbage 0.011214435246144865\n",
      "Carrots 0.0\n",
      "Celery 0.0\n",
      "Lettuce 0.0\n",
      "Onions 0.0\n",
      "Potatoes 0.0\n",
      "Spinach 0.005007660466725203\n",
      "Sweet Potatoes 0.0\n",
      "Peaches (can) 0.0\n",
      "Pears (can) 0.0\n",
      "Pineapple (can) 0.0\n",
      "Asparagus (can) 0.0\n",
      "Green Beans (can) 0.0\n",
      "Pork and Beans (can) 0.0\n",
      "Corn (can) 0.0\n",
      "Peas (can) 0.0\n",
      "Tomatoes (can) 0.0\n",
      "Tomato Soup (can) 0.0\n",
      "Peaches, Dried 0.0\n",
      "Prunes, Dried 0.0\n",
      "Raisins, Dried 0.0\n",
      "Peas, Dried 0.0\n",
      "Lima Beans, Dried 0.0\n",
      "Navy Beans, Dried 0.061028563526693246\n",
      "Coffee 0.0\n",
      "Tea 0.0\n",
      "Cocoa 0.0\n",
      "Chocolate 0.0\n",
      "Sugar 0.0\n",
      "Corn Syrup 0.0\n",
      "Molasses 0.0\n",
      "Strawberry Preserves 0.0\n",
      "total value (one yaer): 39.66173154546625\n",
      "objective value (one day): 0.10866227820675685\n"
     ]
    }
   ],
   "source": [
    "using JuMP, Clp\n",
    "\n",
    "m = Model(solver = ClpSolver())\n",
    "\n",
    "@variable(m, x[1:length(n_foods)] >= 0)\n",
    "\n",
    "@constraint(m, sum(x[i] * data[i,1] for i in 1:length(n_foods)) >= lower[\"Calories (1000)\"])\n",
    "@constraint(m, sum(x[i] * data[i,2] for i in 1:length(n_foods)) >= lower[\"Protein (g)\"])\n",
    "@constraint(m, sum(x[i] * data[i,3] for i in 1:length(n_foods)) >= lower[\"Calcium (g)\"])\n",
    "@constraint(m, sum(x[i] * data[i,4] for i in 1:length(n_foods)) >= lower[\"Iron (mg)\"])\n",
    "@constraint(m, sum(x[i] * data[i,5] for i in 1:length(n_foods)) >= lower[\"Vitamin A (1000 IU)\"])\n",
    "@constraint(m, sum(x[i] * data[i,6] for i in 1:length(n_foods)) >= lower[\"Thiamine (mg)\"])\n",
    "@constraint(m, sum(x[i] * data[i,7] for i in 1:length(n_foods)) >= lower[\"Riboflavin (mg)\"])\n",
    "@constraint(m, sum(x[i] * data[i,8] for i in 1:length(n_foods)) >= lower[\"Niacin (mg)\"])\n",
    "@constraint(m, sum(x[i] * data[i,9] for i in 1:length(n_foods)) >= lower[\"Ascorbic Acid (mg)\"])\n",
    "\n",
    "@objective(m, Min, sum(x[i] for i=1:length(n_foods)))\n",
    "    \n",
    "@time status = solve(m)\n",
    "\n",
    "println(status)\n",
    "\n",
    "for i in 1:length(n_foods)\n",
    "    println(foods[i], ' ',getvalue(x[i]))\n",
    "end\n",
    "println(\"total value (one yaer): \", getobjectivevalue(m)*365)\n",
    "println(\"objective value (one day): \", getobjectivevalue(m))"
   ]
  },
  {
   "cell_type": "markdown",
   "metadata": {},
   "source": [
    "My cheapest annual cost is \\$39.66. It's a little bit lower than \\$39.93."
   ]
  },
  {
   "cell_type": "markdown",
   "metadata": {},
   "source": [
    "In my optimal diet, there are 'Wheat Flour (Enriched)', 'Liver (Beef)', 'Cabbage', 'Spinach' and 'Navy Beans, Dried'"
   ]
  },
  {
   "cell_type": "markdown",
   "metadata": {},
   "source": [
    "### (b)"
   ]
  },
  {
   "cell_type": "markdown",
   "metadata": {},
   "source": [
    "I can delete all the food items related to 'meat' in 'stigler.csv'. Then I get the file 'stigler_vegetarian.csv'. Use the code above and then I get the final result."
   ]
  },
  {
   "cell_type": "code",
   "execution_count": 6,
   "metadata": {},
   "outputs": [],
   "source": [
    "# STARTER CODE FOR STIGLER'S DIET PROBLEM (VEGETARIAN)\n",
    "using NamedArrays\n",
    "\n",
    "# import Stigler's data set\n",
    "raw = readcsv(\"C:\\\\Users\\\\Administrator\\\\Desktop\\\\cs524\\\\stigler_vegetarian.csv\")\n",
    "(m,n) = size(raw)\n",
    "\n",
    "n_nutrients = 2:n      # columns containing nutrients\n",
    "n_foods_veg = 3:m          # rows containing food names\n",
    "\n",
    "nutrients = raw[1,n_nutrients][:]   # the list of nutrients (convert to 1-D array)\n",
    "foods_veg = raw[n_foods_veg,1][:]           # the list of foods (convert to 1-D array)\n",
    " \n",
    "# lower[i] is the minimum daily requirement of nutrient i.\n",
    "lower = Dict( zip(nutrients,raw[2,n_nutrients]) )\n",
    "\n",
    "# data[f,i] is the amount of nutrient i contained in food f.\n",
    "data = NamedArray( raw[n_foods_veg,n_nutrients], (foods_veg,nutrients), (\"foods\",\"nutrients\") );"
   ]
  },
  {
   "cell_type": "code",
   "execution_count": 7,
   "metadata": {},
   "outputs": [
    {
     "name": "stdout",
     "output_type": "stream",
     "text": [
      "  0.000721 seconds (70 allocations: 39.219 KiB)\n",
      "Optimal\n",
      "Wheat Flour (Enriched) 0.03545558140888771\n",
      "Macaroni 0.0\n",
      "Wheat Cereal (Enriched) 0.0\n",
      "Corn Flakes 0.0\n",
      "Corn Meal 0.0\n",
      "Hominy Grits 0.0\n",
      "Rice 0.0\n",
      "Rolled Oats 0.0\n",
      "White Bread (Enriched) 0.0\n",
      "Whole Wheat Bread 0.0\n",
      "Rye Bread 0.0\n",
      "Pound Cake 0.0\n",
      "Soda Crackers 0.0\n",
      "Milk 0.0\n",
      "Evaporated Milk (can) 0.008591461668763544\n",
      "Butter 0.0\n",
      "Oleomargarine 0.0\n",
      "Eggs 0.0\n",
      "Cheese (Cheddar) 0.0\n",
      "Cream 0.0\n",
      "Peanut Butter 0.0\n",
      "Mayonnaise 0.0\n",
      "Crisco 0.0\n",
      "Plate 0.0\n",
      "Apples 0.0\n",
      "Bananas 0.0\n",
      "Lemons 0.0\n",
      "Oranges 0.0\n",
      "Green Beans 0.0\n",
      "Cabbage 0.011249517312443502\n",
      "Carrots 0.0\n",
      "Celery 0.0\n",
      "Lettuce 0.0\n",
      "Onions 0.0\n",
      "Potatoes 0.0\n",
      "Spinach 0.005112832613199646\n",
      "Sweet Potatoes 0.0\n",
      "Peaches (can) 0.0\n",
      "Pears (can) 0.0\n",
      "Pineapple (can) 0.0\n",
      "Asparagus (can) 0.0\n",
      "Green Beans (can) 0.0\n",
      "Corn (can) 0.0\n",
      "Peas (can) 0.0\n",
      "Tomatoes (can) 0.0\n",
      "Tomato Soup (can) 0.0\n",
      "Peaches, Dried 0.0\n",
      "Prunes, Dried 0.0\n",
      "Raisins, Dried 0.0\n",
      "Peas, Dried 0.0\n",
      "Lima Beans, Dried 0.0\n",
      "Navy Beans, Dried 0.04862804357316852\n",
      "Coffee 0.0\n",
      "Tea 0.0\n",
      "Cocoa 0.0\n",
      "Chocolate 0.0\n",
      "Sugar 0.0\n",
      "Corn Syrup 0.0\n",
      "Molasses 0.0\n",
      "Strawberry Preserves 0.0\n",
      "total value (one yaer): 39.79866435040896\n",
      "objective value (one day): 0.10903743657646292\n"
     ]
    }
   ],
   "source": [
    "using JuMP, Clp\n",
    "\n",
    "m = Model(solver = ClpSolver())\n",
    "\n",
    "@variable(m, x[1:length(n_foods_veg)] >= 0)\n",
    "\n",
    "@constraint(m, sum(x[i] * data[i,1] for i in 1:length(n_foods_veg)) >= lower[\"Calories (1000)\"])\n",
    "@constraint(m, sum(x[i] * data[i,2] for i in 1:length(n_foods_veg)) >= lower[\"Protein (g)\"])\n",
    "@constraint(m, sum(x[i] * data[i,3] for i in 1:length(n_foods_veg)) >= lower[\"Calcium (g)\"])\n",
    "@constraint(m, sum(x[i] * data[i,4] for i in 1:length(n_foods_veg)) >= lower[\"Iron (mg)\"])\n",
    "@constraint(m, sum(x[i] * data[i,5] for i in 1:length(n_foods_veg)) >= lower[\"Vitamin A (1000 IU)\"])\n",
    "@constraint(m, sum(x[i] * data[i,6] for i in 1:length(n_foods_veg)) >= lower[\"Thiamine (mg)\"])\n",
    "@constraint(m, sum(x[i] * data[i,7] for i in 1:length(n_foods_veg)) >= lower[\"Riboflavin (mg)\"])\n",
    "@constraint(m, sum(x[i] * data[i,8] for i in 1:length(n_foods_veg)) >= lower[\"Niacin (mg)\"])\n",
    "@constraint(m, sum(x[i] * data[i,9] for i in 1:length(n_foods_veg)) >= lower[\"Ascorbic Acid (mg)\"])\n",
    "\n",
    "@objective(m, Min, sum(x[i] for i=1:length(n_foods_veg)))\n",
    "    \n",
    "@time status = solve(m)\n",
    "\n",
    "println(status)\n",
    "\n",
    "for i in 1:length(n_foods_veg)\n",
    "    println(foods_veg[i], ' ',getvalue(x[i]))\n",
    "end\n",
    "println(\"total value (one yaer): \", getobjectivevalue(m)*365)\n",
    "println(\"objective value (one day): \", getobjectivevalue(m))"
   ]
  },
  {
   "cell_type": "markdown",
   "metadata": {},
   "source": [
    "We can see that vegetarian will spend at least \\$39.80 a year to meet the RDA. Vegetarian will use 'Wheat Flour (Enriched)', 'Evaporated Milk (can)', 'Cabbage', 'Spinach' and 'Navy Beans, Dried'."
   ]
  }
 ],
 "metadata": {
  "kernelspec": {
   "display_name": "Julia 0.6.2",
   "language": "julia",
   "name": "julia-0.6"
  },
  "language_info": {
   "file_extension": ".jl",
   "mimetype": "application/julia",
   "name": "julia",
   "version": "0.6.2"
  }
 },
 "nbformat": 4,
 "nbformat_minor": 2
}
