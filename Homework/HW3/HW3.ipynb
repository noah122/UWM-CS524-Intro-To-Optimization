{
 "cells": [
  {
   "cell_type": "markdown",
   "metadata": {},
   "source": [
    "## Homework 3: Minimax and network flows"
   ]
  },
  {
   "cell_type": "markdown",
   "metadata": {},
   "source": [
    "Name: Zihao Qiu  \n",
    "Campus ID: 9079810942  \n",
    "Email: zqiu34@wisc.edu "
   ]
  },
  {
   "cell_type": "markdown",
   "metadata": {},
   "source": [
    "## Problem 1 (Doodle scheduling)"
   ]
  },
  {
   "cell_type": "markdown",
   "metadata": {},
   "source": [
    "I use a matrix x(15\\*13) as the variable. Each row vector of this matrix represents the possible meeting time of one person. For example, [0, 1 , 0, ...] means that this person will have meeting at 10:20.  \n",
    "Based on the information in this question, the matrix should have the follow 3 constraints: first, the elements in this matrix should be non-negative; second, the sum of each column should be 1; third the sum of 7th column is 3 and sums of each other columns is 1.  \n",
    "The object of this LP problem is to maximize the element-wise production between matrix 'availability' and my variable matrix. So if there exists possible solution, the max value of this production will be 15."
   ]
  },
  {
   "cell_type": "code",
   "execution_count": 1,
   "metadata": {},
   "outputs": [],
   "source": [
    "using JuMP, NamedArrays\n",
    "\n",
    "availability =\n",
    "  [ 0 0 1 1 0 0 0 1 1 0 0 0 0\n",
    "    0 1 1 0 0 0 0 0 1 1 0 0 0\n",
    "    0 0 0 1 1 0 1 1 0 1 1 1 1\n",
    "    0 0 0 1 1 1 1 1 1 1 1 1 0\n",
    "    0 0 0 0 0 0 1 1 1 0 0 0 0\n",
    "    0 1 1 0 0 0 0 0 1 1 0 0 0\n",
    "    0 0 0 1 1 1 1 0 0 0 0 0 0\n",
    "    1 1 0 0 0 0 0 0 0 0 1 1 1\n",
    "    1 1 1 0 0 0 0 0 0 1 1 0 0\n",
    "    0 0 0 0 0 0 0 1 1 0 0 0 0\n",
    "    0 0 0 0 0 0 1 1 1 0 0 0 0\n",
    "    1 1 0 0 0 1 1 1 1 0 0 1 1\n",
    "    1 1 1 0 1 1 0 0 0 0 0 1 1\n",
    "    0 1 1 1 0 0 0 0 0 0 0 0 0\n",
    "    1 1 0 0 1 1 0 0 0 0 0 0 0 ]\n",
    "\n",
    "TIMES = [\"10:00\",\"10:20\",\"10:40\",\"11:00\",\"11:20\",\"11:40\",\"lunch\",\"1:00\",\n",
    "         \"1:20\",\"1:40\",\"2:00\",\"2:20\",\"2:40\"]\n",
    "NAMES = [:Manuel,:Luca,:Jule,:Michael,:Malte,:Chris,:Spyros,:Mirjam,:Matt,\n",
    "         :Florian,:Josep,:Joel,:Tom,:Daniel,:Anne ]\n",
    "times = NamedArray( availability, (NAMES,TIMES), (\"NAME\",\"TIME\"));"
   ]
  },
  {
   "cell_type": "code",
   "execution_count": 19,
   "metadata": {},
   "outputs": [
    {
     "name": "stdout",
     "output_type": "stream",
     "text": [
      "Optimal\n",
      "[0.0, 0.0, 0.0, 0.0, 0.0, 0.0, 0.0, 0.0, 1.0, 0.0, 0.0, 0.0, 0.0]\n",
      "[0.0, 0.0, 1.0, 0.0, 0.0, 0.0, 0.0, 0.0, 0.0, 0.0, 0.0, 0.0, 0.0]\n",
      "[0.0, 0.0, 0.0, 0.0, 0.0, 0.0, 0.0, 0.0, 0.0, 0.0, 0.0, 0.0, 1.0]\n",
      "[0.0, 0.0, 0.0, 0.0, 0.0, 0.0, 1.0, 0.0, 0.0, 0.0, 0.0, 0.0, 0.0]\n",
      "[0.0, 0.0, 0.0, 0.0, 0.0, 0.0, 1.0, 0.0, 0.0, 0.0, 0.0, 0.0, 0.0]\n",
      "[0.0, 0.0, 0.0, 0.0, 0.0, 0.0, 0.0, 0.0, 0.0, 1.0, 0.0, 0.0, 0.0]\n",
      "[0.0, 0.0, 0.0, 0.0, 1.0, 0.0, 0.0, 0.0, 0.0, 0.0, 0.0, 0.0, 0.0]\n",
      "[1.0, 0.0, 0.0, 0.0, 0.0, 0.0, 0.0, 0.0, 0.0, 0.0, 0.0, 0.0, 0.0]\n",
      "[0.0, 0.0, 0.0, 0.0, 0.0, 0.0, 0.0, 0.0, 0.0, 0.0, 1.0, 0.0, 0.0]\n",
      "[0.0, 0.0, 0.0, 0.0, 0.0, 0.0, 0.0, 1.0, 0.0, 0.0, 0.0, 0.0, 0.0]\n",
      "[0.0, 0.0, 0.0, 0.0, 0.0, 0.0, 1.0, 0.0, 0.0, 0.0, 0.0, 0.0, 0.0]\n",
      "[0.0, 1.0, 0.0, 0.0, 0.0, 0.0, 0.0, 0.0, 0.0, 0.0, 0.0, 0.0, 0.0]\n",
      "[0.0, 0.0, 0.0, 0.0, 0.0, 0.0, 0.0, 0.0, 0.0, 0.0, 0.0, 1.0, 0.0]\n",
      "[0.0, 0.0, 0.0, 1.0, 0.0, 0.0, 0.0, 0.0, 0.0, 0.0, 0.0, 0.0, 0.0]\n",
      "[0.0, 0.0, 0.0, 0.0, 0.0, 1.0, 0.0, 0.0, 0.0, 0.0, 0.0, 0.0, 0.0]\n",
      "objective value: 15.0\n"
     ]
    }
   ],
   "source": [
    "using JuMP, Clp\n",
    "\n",
    "m = Model(solver = ClpSolver())\n",
    "\n",
    "@variable(m, 0 <= x[1:15,1:13] <= 1)\n",
    "\n",
    "for i in 1:15\n",
    "    @constraint(m, sum(x[i,:]) == 1)\n",
    "end\n",
    "\n",
    "for i in 1:6\n",
    "    @constraint(m, sum(x[:,i]) == 1)\n",
    "end\n",
    "@constraint(m, sum(x[:,7]) == 3)\n",
    "for i in 8:13\n",
    "    @constraint(m, sum(x[:,i]) == 1)\n",
    "end\n",
    "\n",
    "@objective(m, Max, sum(x[i,j]*times[i,j] for i in 1:15, j in 1:13))\n",
    "\n",
    "status = solve(m)\n",
    "println(status)\n",
    "\n",
    "for i in 1:15\n",
    "    println(getvalue(x[i,:]))\n",
    "end\n",
    "println(\"objective value: \", getobjectivevalue(m))"
   ]
  },
  {
   "cell_type": "markdown",
   "metadata": {},
   "source": [
    "I use this following program to help generate the content of markdown table."
   ]
  },
  {
   "cell_type": "code",
   "execution_count": 25,
   "metadata": {},
   "outputs": [
    {
     "name": "stdout",
     "output_type": "stream",
     "text": [
      "|Manuel|0.0|0.0|0.0|0.0|0.0|0.0|0.0|0.0|1.0|0.0|0.0|0.0|0.0|\n",
      "|Luca|0.0|0.0|1.0|0.0|0.0|0.0|0.0|0.0|0.0|0.0|0.0|0.0|0.0|\n",
      "|Jule|0.0|0.0|0.0|0.0|0.0|0.0|0.0|0.0|0.0|0.0|0.0|0.0|1.0|\n",
      "|Michael|0.0|0.0|0.0|0.0|0.0|0.0|1.0|0.0|0.0|0.0|0.0|0.0|0.0|\n",
      "|Malte|0.0|0.0|0.0|0.0|0.0|0.0|1.0|0.0|0.0|0.0|0.0|0.0|0.0|\n",
      "|Chris|0.0|0.0|0.0|0.0|0.0|0.0|0.0|0.0|0.0|1.0|0.0|0.0|0.0|\n",
      "|Spyros|0.0|0.0|0.0|0.0|1.0|0.0|0.0|0.0|0.0|0.0|0.0|0.0|0.0|\n",
      "|Mirjam|1.0|0.0|0.0|0.0|0.0|0.0|0.0|0.0|0.0|0.0|0.0|0.0|0.0|\n",
      "|Matt|0.0|0.0|0.0|0.0|0.0|0.0|0.0|0.0|0.0|0.0|1.0|0.0|0.0|\n",
      "|Florian|0.0|0.0|0.0|0.0|0.0|0.0|0.0|1.0|0.0|0.0|0.0|0.0|0.0|\n",
      "|Josep|0.0|0.0|0.0|0.0|0.0|0.0|1.0|0.0|0.0|0.0|0.0|0.0|0.0|\n",
      "|Joel|0.0|1.0|0.0|0.0|0.0|0.0|0.0|0.0|0.0|0.0|0.0|0.0|0.0|\n",
      "|Tom|0.0|0.0|0.0|0.0|0.0|0.0|0.0|0.0|0.0|0.0|0.0|1.0|0.0|\n",
      "|Daniel|0.0|0.0|0.0|1.0|0.0|0.0|0.0|0.0|0.0|0.0|0.0|0.0|0.0|\n",
      "|Anne|0.0|0.0|0.0|0.0|0.0|1.0|0.0|0.0|0.0|0.0|0.0|0.0|0.0|\n"
     ]
    }
   ],
   "source": [
    "for i in 1:15\n",
    "    line = '|' * string(NAMES[i]) * '|'\n",
    "    for j in 1:13\n",
    "        line = line * string(getvalue(x[i,j])) * '|'\n",
    "    end\n",
    "    println(line)\n",
    "end"
   ]
  },
  {
   "cell_type": "markdown",
   "metadata": {},
   "source": [
    "So a feasible interview schedule is as follows (I use * to mark the feasible time slot of each person):"
   ]
  },
  {
   "cell_type": "markdown",
   "metadata": {},
   "source": [
    "| Name | 10:00|10:20|10:40|11:00|11:20|11:40|lunch|1:00|1:20|1:40|2:00|2:20|2:40|\n",
    "| - | :-: | -: |  -: | -: | -: | -: | -: | -: | -: | -: | -: | -: | -: |\n",
    "|Manuel|0.0|0.0|0.0|0.0|0.0|0.0|0.0|0.0|\\*1.0|0.0|0.0|0.0|0.0|\n",
    "|Luca|0.0|0.0|\\*1.0|0.0|0.0|0.0|0.0|0.0|0.0|0.0|0.0|0.0|0.0|\n",
    "|Jule|0.0|0.0|0.0|0.0|0.0|0.0|0.0|0.0|0.0|0.0|0.0|0.0|\\*1.0|\n",
    "|Michael|0.0|0.0|0.0|0.0|0.0|0.0|\\*1.0|0.0|0.0|0.0|0.0|0.0|0.0|\n",
    "|Malte|0.0|0.0|0.0|0.0|0.0|0.0|\\*1.0|0.0|0.0|0.0|0.0|0.0|0.0|\n",
    "|Chris|0.0|0.0|0.0|0.0|0.0|0.0|0.0|0.0|0.0|\\*1.0|0.0|0.0|0.0|\n",
    "|Spyros|0.0|0.0|0.0|0.0|\\*1.0|0.0|0.0|0.0|0.0|0.0|0.0|0.0|0.0|\n",
    "|Mirjam|\\*1.0|0.0|0.0|0.0|0.0|0.0|0.0|0.0|0.0|0.0|0.0|0.0|0.0|\n",
    "|Matt|0.0|0.0|0.0|0.0|0.0|0.0|0.0|0.0|0.0|0.0|\\*1.0|0.0|0.0|\n",
    "|Florian|0.0|0.0|0.0|0.0|0.0|0.0|0.0|\\*1.0|0.0|0.0|0.0|0.0|0.0|\n",
    "|Josep|0.0|0.0|0.0|0.0|0.0|0.0|\\*1.0|0.0|0.0|0.0|0.0|0.0|0.0|\n",
    "|Joel|0.0|\\*1.0|0.0|0.0|0.0|0.0|0.0|0.0|0.0|0.0|0.0|0.0|0.0|\n",
    "|Tom|0.0|0.0|0.0|0.0|0.0|0.0|0.0|0.0|0.0|0.0|0.0|\\*1.0|0.0|\n",
    "|Daniel|0.0|0.0|0.0|\\*1.0|0.0|0.0|0.0|0.0|0.0|0.0|0.0|0.0|0.0|\n",
    "|Anne|0.0|0.0|0.0|0.0|0.0|\\*1.0|0.0|0.0|0.0|0.0|0.0|0.0|0.0|"
   ]
  },
  {
   "cell_type": "markdown",
   "metadata": {},
   "source": [
    "## Problem 2 (Car rental)"
   ]
  },
  {
   "cell_type": "markdown",
   "metadata": {},
   "source": [
    "I use a matrix x(4\\*6) as the variable. Rows of this matrix represants agency 2,5,8,9 which have more cars then required. Columns of this matrix represants agency 1,3,4,6,7,10 which have less cars then required. The item x[i,j] represants the number of cars that should be moved from agency i to agency j.  \n",
    "Because agency 2 has 7 extra cars, agency 5 has 3 extra cars, agency 8 has 4 extra cars and agency 9 has 6 extra cars, the sums of row 1,2,3,4 are 7,3,4,6.  \n",
    "Because agency 1 needs 2 cars, agency 3 needs 4 cars, agency 4 needs 3 cars, agency 6 needs 5 cars, agency 7 needs 1 car and agency 10 needs 5 cars, the sums of column 1,3,4,6,7,10 are 2,4,3,5,1,5.  \n",
    "I define a function 'Cost', it can take the indexes of two agencies and the number of cars and return the cost you need.  \n",
    "The object of this problem is to minimize the total cost which is easy to evaluate.  \n",
    "My code is as follows:  "
   ]
  },
  {
   "cell_type": "code",
   "execution_count": 8,
   "metadata": {},
   "outputs": [
    {
     "name": "stdout",
     "output_type": "stream",
     "text": [
      "Optimal\n",
      "[0.0, 1.0, 0.0, 5.0, 1.0, 0.0]\n",
      "[0.0, 0.0, 3.0, 0.0, 0.0, 0.0]\n",
      "[0.0, 0.0, 0.0, 0.0, 0.0, 4.0]\n",
      "[2.0, 3.0, 0.0, 0.0, 0.0, 1.0]\n",
      "objective value: 152.63901632295628\n"
     ]
    }
   ],
   "source": [
    "using JuMP, Clp\n",
    "\n",
    "location = \n",
    "    [0 20 18 30 35 33  5  5 11  2\n",
    "     0 20 10 12  0 25 27 10  0 15]\n",
    "\n",
    "function Cost(agen1, agen2, num, loc=location)\n",
    "    x1 = loc[1, agen1]\n",
    "    y1 = loc[2, agen1]\n",
    "    x2 = loc[1, agen2]\n",
    "    y2 = loc[2, agen2]\n",
    "    dis = sqrt((x1-x2)^2 + (y1-y2)^2) * 1.3\n",
    "    cost = 0.5 * dis * num\n",
    "    return cost\n",
    "end\n",
    "\n",
    "m = Model(solver = ClpSolver())\n",
    "\n",
    "row_idx = [2 5 8 9]\n",
    "col_idx = [1 3 4 6 7 10]\n",
    "\n",
    "@variable(m, x[1:4,1:6] >= 0)\n",
    "\n",
    "@constraint(m, sum(x[1,:]) == 7) # location 2\n",
    "@constraint(m, sum(x[2,:]) == 3) # location 5\n",
    "@constraint(m, sum(x[3,:]) == 4) # location 8\n",
    "@constraint(m, sum(x[4,:]) == 6) # location 9\n",
    "\n",
    "@constraint(m, sum(x[:,1]) == 2) # location 1\n",
    "@constraint(m, sum(x[:,2]) == 4) # location 3\n",
    "@constraint(m, sum(x[:,3]) == 3) # location 4\n",
    "@constraint(m, sum(x[:,4]) == 5) # location 6\n",
    "@constraint(m, sum(x[:,5]) == 1) # location 7\n",
    "@constraint(m, sum(x[:,6]) == 5) # location 10\n",
    "\n",
    "@objective(m, Min, sum(Cost(row_idx[i], col_idx[j], x[i,j]) for i in 1:4, j in 1:6))\n",
    "\n",
    "status = solve(m)\n",
    "println(status)\n",
    "\n",
    "for i in 1:4\n",
    "    println(getvalue(x[i,:]))\n",
    "end\n",
    "println(\"objective value: \", getobjectivevalue(m))"
   ]
  },
  {
   "cell_type": "markdown",
   "metadata": {},
   "source": [
    "The movement is as follows. The meaning of this table is agency 2 should move 1 car to agency 3, 5 cars to agency 6 and 1 car to agency 7 etc."
   ]
  },
  {
   "cell_type": "markdown",
   "metadata": {},
   "source": [
    "| movement|agency 1 |agency 3 |agency 4 |agency 6 |agency 7 |agency 10 |\n",
    "| - | :-: | -: |  -: | -: | -: |\n",
    "| agnecy 2 | 0 | 1 | 0 | 5 | 1 | 0 |\n",
    "| agnecy 5 | 0 | 0 | 3 | 0 | 0 | 0 |\n",
    "| agnecy 8 | 0 | 0 | 0 | 0 | 0 | 4 |\n",
    "| agnecy 9 | 2 | 3 | 0 | 0 | 0 | 1 |"
   ]
  },
  {
   "cell_type": "markdown",
   "metadata": {},
   "source": [
    "The minimum of total cost is \\$152.639."
   ]
  },
  {
   "cell_type": "markdown",
   "metadata": {},
   "source": [
    "## Problem 3 (Building a stadium)"
   ]
  },
  {
   "cell_type": "markdown",
   "metadata": {},
   "source": [
    "### (a)"
   ]
  },
  {
   "cell_type": "markdown",
   "metadata": {},
   "source": [
    "To get the earliest date of completion for the construction, I set variable tstart, which represants the start time of each task.  \n",
    "I add the constraints that if task i is the predecessor of task j, then tstart[j]$\\geq$tstart[i] + duration[i].  \n",
    "Then I set tstart[1]=0, and the object is to minimize the end time of the last task."
   ]
  },
  {
   "cell_type": "code",
   "execution_count": 5,
   "metadata": {},
   "outputs": [
    {
     "name": "stdout",
     "output_type": "stream",
     "text": [
      "tstart: 1 dimensions:\n",
      "[ 1] = -0.0\n",
      "[ 2] = 2.0\n",
      "[ 3] = 18.0\n",
      "[ 4] = 18.0\n",
      "[ 5] = 27.0\n",
      "[ 6] = 37.0\n",
      "[ 7] = 26.0\n",
      "[ 8] = 43.0\n",
      "[ 9] = 43.0\n",
      "[10] = 26.0\n",
      "[11] = 43.0\n",
      "[12] = 52.0\n",
      "[13] = 28.0\n",
      "[14] = 18.0\n",
      "[15] = 26.0\n",
      "[16] = 46.0\n",
      "[17] = 54.0\n",
      "[18] = 63.0\n",
      "minimum duration: 64.0\n"
     ]
    }
   ],
   "source": [
    "using JuMP, Clp\n",
    "\n",
    "tasks = 1:18\n",
    "durations = [2 16 9 8 10 6 2 2 9 5 3 2 1 7 4 3 9 1]\n",
    "predecessors = ([], [1], [2], [2], [3], [4,5], [4], [6], [4,6], \n",
    "                [4], [6], [9], [7], [2], [4,14], [8,11,14], [12], [17])\n",
    "\n",
    "m = Model(solver=ClpSolver())\n",
    "\n",
    "@variable(m, tstart[tasks])\n",
    "\n",
    "for i in tasks\n",
    "    for j in predecessors[i]\n",
    "        @constraint(m, tstart[i] >= tstart[j] + durations[j])\n",
    "    end\n",
    "end\n",
    "@constraint(m, tstart[1] == 0)\n",
    "@objective(m, Min, tstart[18] + durations[18])\n",
    "\n",
    "solve(m)\n",
    "println(getvalue(tstart))\n",
    "println(\"minimum duration: \", getobjectivevalue(m))"
   ]
  },
  {
   "cell_type": "markdown",
   "metadata": {},
   "source": [
    "So we can see that it will take at least 64 days to complete the construction."
   ]
  },
  {
   "cell_type": "markdown",
   "metadata": {},
   "source": [
    "### (b)"
   ]
  },
  {
   "cell_type": "markdown",
   "metadata": {},
   "source": [
    "In this question, I set two groups of variables and they are tstart and reduc.  \n",
    "The meaning of tstart doesn't change. The meaning of reduc is how many weeks we should reduce in each task, for example, reduc[4]=1 means we should reduce 1 weeks in task 4.  \n",
    "The constraints of this LP problem are the combination of the constraints in (a) and the constraints about reduc[]. I think the constraints are obviuos.  \n",
    "The object is to maximize the profit and it's also not difficult to evaluate.  "
   ]
  },
  {
   "cell_type": "code",
   "execution_count": 8,
   "metadata": {},
   "outputs": [
    {
     "name": "stdout",
     "output_type": "stream",
     "text": [
      "tstart: 1 dimensions:\n",
      "[ 1] = -0.0\n",
      "[ 2] = -1.0\n",
      "[ 3] = 14.0\n",
      "[ 4] = 15.0\n",
      "[ 5] = 21.0\n",
      "[ 6] = 30.0\n",
      "[ 7] = 23.0\n",
      "[ 8] = 36.0\n",
      "[ 9] = 36.0\n",
      "[10] = 23.0\n",
      "[11] = 36.0\n",
      "[12] = 45.0\n",
      "[13] = 25.0\n",
      "[14] = 15.0\n",
      "[15] = 23.0\n",
      "[16] = 39.0\n",
      "[17] = 44.0\n",
      "[18] = 53.0\n",
      "reduc: 1 dimensions:\n",
      "[ 1] = 0.0\n",
      "[ 2] = 3.0\n",
      "[ 3] = 1.0\n",
      "[ 4] = 0.0\n",
      "[ 5] = 2.0\n",
      "[ 6] = 1.0\n",
      "[ 7] = 0.0\n",
      "[ 8] = 0.0\n",
      "[ 9] = 0.0\n",
      "[10] = 0.0\n",
      "[11] = 0.0\n",
      "[12] = 0.0\n",
      "[13] = 0.0\n",
      "[14] = 0.0\n",
      "[15] = 0.0\n",
      "[16] = 0.0\n",
      "[17] = 3.0\n",
      "[18] = 0.0\n",
      "max profit: 87.0\n",
      "minimum duration:54.0\n"
     ]
    }
   ],
   "source": [
    "using JuMP, Clp\n",
    "\n",
    "tasks = 1:18\n",
    "durations = [2 16 9 8 10 6 2 2 9 5 3 2 1 7 4 3 9 1]\n",
    "predecessors = ([], [1], [2], [2], [3], [4,5], [4], [6], [4,6],\n",
    "                [4], [6], [9], [7], [2], [4,14], [8,11,14], [12], [17])\n",
    "\n",
    "# additional columns of data (maximum reduction possible )\n",
    "max_reduction =  [0,  3,  1,  2,  2,  1, 1, 0,  2,  1,  1, 0, 0,  2,  2, 1,  3, 0] \n",
    "cost_reduction = [0, 30, 26, 12, 17, 15, 8, 0, 42, 21, 18, 0, 0, 22, 12, 6, 16, 0]   \n",
    "bonus_amount = 30     # bonus for expediting the project ($1,000/week )\n",
    "\n",
    "m = Model(solver=ClpSolver())\n",
    "\n",
    "@variable(m, tstart[tasks])\n",
    "@variable(m, reduc[tasks] >= 0)\n",
    "\n",
    "for i in tasks\n",
    "    @constraint(m, reduc[i] <= max_reduction[i])\n",
    "end\n",
    "\n",
    "for i in tasks\n",
    "    for j in predecessors[i]\n",
    "        @constraint(m, tstart[i] >= tstart[j] + durations[j] - reduc[i])\n",
    "    end\n",
    "end\n",
    "\n",
    "@constraint(m, tstart[1] == 0)\n",
    "\n",
    "@objective(m, Max, (64 - (tstart[18] + durations[18])) * bonus_amount \n",
    "            - sum(reduc[i] * cost_reduction[i] for i in tasks))\n",
    "\n",
    "solve(m)\n",
    "println(getvalue(tstart))\n",
    "println(getvalue(reduc))\n",
    "println(\"max profit: \", getobjectivevalue(m))\n",
    "println(\"minimum duration:\", getvalue(tstart[18]) + durations[18])"
   ]
  },
  {
   "cell_type": "markdown",
   "metadata": {},
   "source": [
    "We can see that the construction can be finished in 54 days. The task plan and reduction plan can be seen above.  \n",
    "The maximum profit is \\$87k"
   ]
  },
  {
   "cell_type": "markdown",
   "metadata": {},
   "source": [
    "## Problem 4 (Museum site planning)"
   ]
  },
  {
   "cell_type": "markdown",
   "metadata": {},
   "source": [
    "Just use the method that solves the Chebyshev problem and replace 'r' by 'r+50'. The five lines we have are:"
   ]
  },
  {
   "cell_type": "markdown",
   "metadata": {},
   "source": [
    "\\begin{align}\n",
    "& 2x+3y \\leq 2100 \\\\\n",
    "& 3x-y \\leq 1500  \\\\\n",
    "& y \\geq 0   \\\\\n",
    "& y \\leq 500 \\\\\n",
    "& x \\geq 0\n",
    "\\end{align}"
   ]
  },
  {
   "cell_type": "markdown",
   "metadata": {},
   "source": [
    "So the code is as follows:"
   ]
  },
  {
   "cell_type": "code",
   "execution_count": 2,
   "metadata": {},
   "outputs": [
    {
     "name": "stdout",
     "output_type": "stream",
     "text": [
      "Optimal\n",
      "The coordinates of the Chebyshev center are: [244.029, 244.029]\n",
      "The largest possible radius is: 194.02852679380186\n"
     ]
    }
   ],
   "source": [
    "A = [2 3; 3 -1; 0 -1; 0 1; -1 0]\n",
    "b = [2100; 1500; 0; 500; 0]\n",
    "\n",
    "using JuMP, Clp\n",
    "\n",
    "m = Model(solver=ClpSolver())\n",
    "@variable(m, r >= 0)           # radius\n",
    "@variable(m, x[1:2])           # coordinates of center\n",
    "for i = 1:size(A,1)\n",
    "    @constraint(m, A[i,:]'*x + (r + 50)*norm(A[i,:]) <= b[i])\n",
    "end\n",
    "@objective(m, Max, r)     # maximize radius\n",
    "\n",
    "status = solve(m)\n",
    "center = getvalue(x)\n",
    "radius = getvalue(r)\n",
    "\n",
    "println(status)\n",
    "println(\"The coordinates of the Chebyshev center are: \", center)\n",
    "println(\"The largest possible radius is: \", radius)"
   ]
  },
  {
   "cell_type": "markdown",
   "metadata": {},
   "source": [
    "So the optimal radius is 194.02852679380186 feet and the center is at [244.029, 244.029].  \n",
    "I use python3 + matplotlib to draw the picture. The code is as follows:"
   ]
  },
  {
   "cell_type": "code",
   "execution_count": null,
   "metadata": {},
   "outputs": [],
   "source": [
    "import matplotlib.pyplot as plt\n",
    "fig = plt.gcf()\n",
    "ax = fig.gca()\n",
    "\n",
    "plt.plot([0, 0, 300, 600,500,0], [0, 500, 500, 300,0,0])\n",
    "\n",
    "circle1=plt.Circle((244.029,244.029),194.02852679380186, color=\"green\")\n",
    "circle2=plt.Circle((244.029,244.029),194.02852679380186 + 50 , color=\"red\", fill=False)\n",
    "\n",
    "ax.add_artist(circle1)\n",
    "ax.add_artist(circle2)\n",
    "\n",
    "plt.axis('equal')\n",
    "plt.grid()\n",
    "plt.show()"
   ]
  },
  {
   "cell_type": "markdown",
   "metadata": {},
   "source": [
    "![](file:C:\\\\Users\\\\Administrator\\\\Desktop\\\\cs524\\\\HW3\\\\hw3-p4.png)"
   ]
  },
  {
   "cell_type": "markdown",
   "metadata": {},
   "source": [
    "![avatar](http://chuantu.biz/t6/229/1518578373x-1566684628.png)"
   ]
  },
  {
   "cell_type": "markdown",
   "metadata": {},
   "source": [
    "The red circle is the largest circle. The green area is the location of the best place to build the museum."
   ]
  }
 ],
 "metadata": {
  "kernelspec": {
   "display_name": "Julia 0.6.2",
   "language": "julia",
   "name": "julia-0.6"
  },
  "language_info": {
   "file_extension": ".jl",
   "mimetype": "application/julia",
   "name": "julia",
   "version": "0.6.2"
  }
 },
 "nbformat": 4,
 "nbformat_minor": 2
}
