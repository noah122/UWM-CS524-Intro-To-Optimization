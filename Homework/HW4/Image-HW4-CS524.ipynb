{
 "cells": [
  {
   "cell_type": "markdown",
   "metadata": {},
   "source": [
    "## Problem 1"
   ]
  },
  {
   "cell_type": "code",
   "execution_count": 24,
   "metadata": {},
   "outputs": [
    {
     "data": {
      "image/png": "[encoded data removed]",
      "text/plain": [
       "<matplotlib.figure.Figure at 0xc558420208>"
      ]
     },
     "metadata": {},
     "output_type": "display_data"
    }
   ],
   "source": [
    "import matplotlib.pyplot as plt\n",
    "import numpy as np\n",
    "fig = plt.gcf()\n",
    "ax = fig.gca()\n",
    "\n",
    "plt.fill([0, 0, 24, 160/3, 0], [0, 50, 44, 0,0], color=\"lightgreen\", label=\"feasible set\")\n",
    "\n",
    "xs = np.linspace(0, 60, 100)\n",
    "xl = (472 - 5*xs) / 8\n",
    "plt.plot(xs, xl, \"b\", label=\"max profit\")\n",
    "\n",
    "plt.plot([24], [44], 'ro', label=\"optimal point\")\n",
    "\n",
    "plt.xlabel('xs',fontsize=18)\n",
    "plt.ylabel('xl',fontsize=18)\n",
    "\n",
    "plt.legend()\n",
    "plt.grid()\n",
    "plt.axis('equal')\n",
    "plt.show()"
   ]
  },
  {
   "cell_type": "code",
   "execution_count": 28,
   "metadata": {},
   "outputs": [],
   "source": [
    "import matplotlib.pyplot as plt\n",
    "import numpy as np\n",
    "fig = plt.gcf()\n",
    "ax = fig.gca()\n",
    "\n",
    "plt.fill([0, 0, 1.4, 2, 0], [0, 5/3, 1.2, 0,0], color=\"lightgreen\", label=\"feasible set\")\n",
    "\n",
    "plt.plot([1.4], [1.2], 'ro', label=\"optimal point\")\n",
    "\n",
    "plt.xlabel('lambda1',fontsize=18)\n",
    "plt.ylabel('lambda2',fontsize=18)\n",
    "\n",
    "plt.legend()\n",
    "plt.grid()\n",
    "plt.axis('equal')\n",
    "plt.savefig(\"C:\\\\Users\\\\Administrator\\\\Desktop\\\\cs524\\\\HW4\\\\hw4-p1-2.png\")"
   ]
  },
  {
   "cell_type": "code",
   "execution_count": null,
   "metadata": {},
   "outputs": [],
   "source": []
  }
 ],
 "metadata": {
  "kernelspec": {
   "display_name": "Python 3",
   "language": "python",
   "name": "python3"
  },
  "language_info": {
   "codemirror_mode": {
    "name": "ipython",
    "version": 3
   },
   "file_extension": ".py",
   "mimetype": "text/x-python",
   "name": "python",
   "nbconvert_exporter": "python",
   "pygments_lexer": "ipython3",
   "version": "3.5.2"
  }
 },
 "nbformat": 4,
 "nbformat_minor": 2
}
